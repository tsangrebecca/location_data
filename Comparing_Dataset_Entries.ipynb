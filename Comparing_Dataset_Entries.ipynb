{
  "nbformat": 4,
  "nbformat_minor": 0,
  "metadata": {
    "colab": {
      "provenance": [],
      "authorship_tag": "ABX9TyN+0/JgiTeUG+PXvvqiDrXx",
      "include_colab_link": true
    },
    "kernelspec": {
      "name": "python3",
      "display_name": "Python 3"
    },
    "language_info": {
      "name": "python"
    }
  },
  "cells": [
    {
      "cell_type": "markdown",
      "metadata": {
        "id": "view-in-github",
        "colab_type": "text"
      },
      "source": [
        "<a href=\"https://colab.research.google.com/github/tsangrebecca/small_projects/blob/main/Comparing_Dataset_Entries.ipynb\" target=\"_parent\"><img src=\"https://colab.research.google.com/assets/colab-badge.svg\" alt=\"Open In Colab\"/></a>"
      ]
    },
    {
      "cell_type": "code",
      "execution_count": 4,
      "metadata": {
        "colab": {
          "base_uri": "https://localhost:8080/"
        },
        "id": "UJ0QmpQr5mPs",
        "outputId": "22884066-041a-4833-ec7b-882b072f62c5"
      },
      "outputs": [
        {
          "output_type": "stream",
          "name": "stdout",
          "text": [
            "No duplicate entries: True\n",
            "Same average grade: True\n",
            "id_1 has a higher score: True\n"
          ]
        }
      ],
      "source": [
        "id_1 = \"#4\"\n",
        "average_grade_1 = \"A\"\n",
        "test_score_1 = 90\n",
        "\n",
        "id_2 = \"#5\"\n",
        "average_grade_2 = \"A\"\n",
        "test_score_2 = 70\n",
        "\n",
        "no_duplicates = id_1 != id_2\n",
        "print(\"No duplicate entries:\", no_duplicates)\n",
        "\n",
        "same_average = average_grade_1 == average_grade_2\n",
        "print(\"Same average grade:\", same_average)\n",
        "\n",
        "higher_score = test_score_1 > test_score_2\n",
        "print(\"id_1 has a higher score:\", higher_score)"
      ]
    },
    {
      "cell_type": "code",
      "source": [],
      "metadata": {
        "id": "PtW8A-_36IIF"
      },
      "execution_count": null,
      "outputs": []
    }
  ]
}