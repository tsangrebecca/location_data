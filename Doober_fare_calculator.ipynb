{
  "nbformat": 4,
  "nbformat_minor": 0,
  "metadata": {
    "colab": {
      "provenance": [],
      "authorship_tag": "ABX9TyP1qCwn6yZtFiVKrSFvAoAW",
      "include_colab_link": true
    },
    "kernelspec": {
      "name": "python3",
      "display_name": "Python 3"
    },
    "language_info": {
      "name": "python"
    }
  },
  "cells": [
    {
      "cell_type": "markdown",
      "metadata": {
        "id": "view-in-github",
        "colab_type": "text"
      },
      "source": [
        "<a href=\"https://colab.research.google.com/github/tsangrebecca/small_projects/blob/main/Doober_fare_calculator.ipynb\" target=\"_parent\"><img src=\"https://colab.research.google.com/assets/colab-badge.svg\" alt=\"Open In Colab\"/></a>"
      ]
    },
    {
      "cell_type": "code",
      "execution_count": 1,
      "metadata": {
        "colab": {
          "base_uri": "https://localhost:8080/"
        },
        "id": "0RawXZTDS0XC",
        "outputId": "e302beaf-6728-4417-eeba-b27615c6c54a"
      },
      "outputs": [
        {
          "output_type": "stream",
          "name": "stdout",
          "text": [
            "Ride price:\n",
            "37.9\n",
            "Final price:\n",
            "33.9\n"
          ]
        }
      ],
      "source": [
        "ride_type = \"Black\"\n",
        "credits = 4\n",
        "\n",
        "ride_price = 0\n",
        "final_price = 0\n",
        "\n",
        "if ride_type == \"DooberX\":\n",
        "  ride_price = 20.5\n",
        "elif ride_type == \"Black\":\n",
        "  ride_price = 37.9\n",
        "else:\n",
        "  ride_price = 18.7\n",
        "\n",
        "print(\"Ride price:\")\n",
        "print(ride_price)\n",
        "\n",
        "if credits > 0:\n",
        "  final_price = ride_price - credits\n",
        "\n",
        "print(\"Final price:\")\n",
        "print(final_price)"
      ]
    },
    {
      "cell_type": "code",
      "source": [],
      "metadata": {
        "id": "l8xnX1P8TpFy"
      },
      "execution_count": null,
      "outputs": []
    }
  ]
}