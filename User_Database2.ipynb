{
  "nbformat": 4,
  "nbformat_minor": 0,
  "metadata": {
    "colab": {
      "provenance": [],
      "authorship_tag": "ABX9TyPKOGOzIKQMjjV/f7lDnmUg",
      "include_colab_link": true
    },
    "kernelspec": {
      "name": "python3",
      "display_name": "Python 3"
    },
    "language_info": {
      "name": "python"
    }
  },
  "cells": [
    {
      "cell_type": "markdown",
      "metadata": {
        "id": "view-in-github",
        "colab_type": "text"
      },
      "source": [
        "<a href=\"https://colab.research.google.com/github/tsangrebecca/small_projects/blob/main/User_Database2.ipynb\" target=\"_parent\"><img src=\"https://colab.research.google.com/assets/colab-badge.svg\" alt=\"Open In Colab\"/></a>"
      ]
    },
    {
      "cell_type": "code",
      "execution_count": 1,
      "metadata": {
        "colab": {
          "base_uri": "https://localhost:8080/"
        },
        "id": "YbHs9EIzn8Hh",
        "outputId": "3854375a-8b03-4c14-f28a-5876af50f569"
      },
      "outputs": [
        {
          "output_type": "stream",
          "name": "stdout",
          "text": [
            "Database has user: Becca\n"
          ]
        }
      ],
      "source": [
        "user_added = True\n",
        "user = \"Becca\"\n",
        "\n",
        "if user_added == False:\n",
        "  print(f\"Add {user} to database\")\n",
        "  user_added = True\n",
        "print(f\"Database has user: {user}\")"
      ]
    },
    {
      "cell_type": "code",
      "source": [],
      "metadata": {
        "id": "R1FsSAeFs8Rt"
      },
      "execution_count": null,
      "outputs": []
    }
  ]
}