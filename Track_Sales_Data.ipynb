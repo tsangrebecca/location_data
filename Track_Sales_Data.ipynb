{
  "nbformat": 4,
  "nbformat_minor": 0,
  "metadata": {
    "colab": {
      "provenance": [],
      "authorship_tag": "ABX9TyP2cK2YD/xLV8HQDHPF1oCk",
      "include_colab_link": true
    },
    "kernelspec": {
      "name": "python3",
      "display_name": "Python 3"
    },
    "language_info": {
      "name": "python"
    }
  },
  "cells": [
    {
      "cell_type": "markdown",
      "metadata": {
        "id": "view-in-github",
        "colab_type": "text"
      },
      "source": [
        "<a href=\"https://colab.research.google.com/github/tsangrebecca/small_projects/blob/main/Track_Sales_Data.ipynb\" target=\"_parent\"><img src=\"https://colab.research.google.com/assets/colab-badge.svg\" alt=\"Open In Colab\"/></a>"
      ]
    },
    {
      "cell_type": "code",
      "execution_count": 7,
      "metadata": {
        "colab": {
          "base_uri": "https://localhost:8080/"
        },
        "id": "q49b3pTAzZhQ",
        "outputId": "e6466c74-7e74-4f83-ad53-6c4c8d0e7f28"
      },
      "outputs": [
        {
          "output_type": "stream",
          "name": "stdout",
          "text": [
            "Hit jeans sale target:\n",
            "True\n",
            "Jeans in stock:\n",
            "True\n"
          ]
        }
      ],
      "source": [
        "stock = 600\n",
        "jeans_sold = 500\n",
        "target = 500\n",
        "\n",
        "target_hit = jeans_sold == target\n",
        "print(\"Hit jeans sale target:\")\n",
        "print(target_hit) \n",
        "\n",
        "current_stock = stock - jeans_sold\n",
        "in_stock = current_stock != 0\n",
        "print(\"Jeans in stock:\")\n",
        "print(in_stock)"
      ]
    },
    {
      "cell_type": "code",
      "source": [],
      "metadata": {
        "id": "__0yJ6Zb0_s1"
      },
      "execution_count": null,
      "outputs": []
    },
    {
      "cell_type": "code",
      "source": [],
      "metadata": {
        "id": "pLo-SXZn0pEM"
      },
      "execution_count": null,
      "outputs": []
    },
    {
      "cell_type": "code",
      "source": [],
      "metadata": {
        "id": "d0IjWUNF0iF0"
      },
      "execution_count": null,
      "outputs": []
    }
  ]
}