{
  "nbformat": 4,
  "nbformat_minor": 0,
  "metadata": {
    "colab": {
      "provenance": [],
      "authorship_tag": "ABX9TyMezCcc7D5BVw/Oyt3uBd8p",
      "include_colab_link": true
    },
    "kernelspec": {
      "name": "python3",
      "display_name": "Python 3"
    },
    "language_info": {
      "name": "python"
    }
  },
  "cells": [
    {
      "cell_type": "markdown",
      "metadata": {
        "id": "view-in-github",
        "colab_type": "text"
      },
      "source": [
        "<a href=\"https://colab.research.google.com/github/tsangrebecca/small_projects/blob/main/Smart_Light_Switch.ipynb\" target=\"_parent\"><img src=\"https://colab.research.google.com/assets/colab-badge.svg\" alt=\"Open In Colab\"/></a>"
      ]
    },
    {
      "cell_type": "code",
      "execution_count": 3,
      "metadata": {
        "colab": {
          "base_uri": "https://localhost:8080/"
        },
        "id": "9Af2d2p-x6LP",
        "outputId": "d2bc6d15-2673-4c40-857d-77fdb9f09043"
      },
      "outputs": [
        {
          "output_type": "stream",
          "name": "stdout",
          "text": [
            "Daytime?\n",
            "False\n",
            "Lights on?\n",
            "True\n"
          ]
        }
      ],
      "source": [
        "is_day = False\n",
        "lights_on = not is_day\n",
        "\n",
        "print(\"Daytime?\")\n",
        "print(is_day)\n",
        "\n",
        "print(\"Lights on?\")\n",
        "print(lights_on)"
      ]
    }
  ]
}